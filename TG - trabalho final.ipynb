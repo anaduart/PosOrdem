{
 "cells": [
  {
   "cell_type": "markdown",
   "id": "ec536883",
   "metadata": {},
   "source": [
    "# <p style=\"color:#1D7151\"> Implementação Aplicada </p>"
   ]
  },
  {
   "cell_type": "markdown",
   "id": "ed88875e",
   "metadata": {},
   "source": [
    "![](capa.PNG)"
   ]
  },
  {
   "cell_type": "code",
   "execution_count": null,
   "id": "a2a59a26",
   "metadata": {},
   "outputs": [],
   "source": [
    "! pip install pythonds"
   ]
  },
  {
   "cell_type": "markdown",
   "id": "d0020c81",
   "metadata": {},
   "source": [
    "Transforma a equação notação infixa em notação posfixa."
   ]
  },
  {
   "cell_type": "code",
   "execution_count": 1,
   "id": "1273dfad",
   "metadata": {},
   "outputs": [],
   "source": [
    "from pythonds.basic.stack import Stack\n",
    "\n",
    "def infixToPostfix(infixexpr):\n",
    "    prec = {}\n",
    "    prec[\"*\"] = 3\n",
    "    prec[\"/\"] = 3\n",
    "    prec[\"+\"] = 2\n",
    "    prec[\"-\"] = 2\n",
    "    prec[\"(\"] = 1\n",
    "    opStack = Stack()\n",
    "    postfixList = []\n",
    "    tokenList = infixexpr.split()\n",
    "\n",
    "    for token in tokenList:\n",
    "        if token in \"ABCDEFGHIJKLMNOPQRSTUVWXYZ\" or token in \"0123456789\":\n",
    "            postfixList.append(token)\n",
    "        elif token == '(':\n",
    "            opStack.push(token)\n",
    "        elif token == ')':\n",
    "            topToken = opStack.pop()\n",
    "            while topToken != '(':\n",
    "                postfixList.append(topToken)\n",
    "                topToken = opStack.pop()\n",
    "        else:\n",
    "            while (not opStack.isEmpty()) and \\\n",
    "               (prec[opStack.peek()] >= prec[token]):\n",
    "                  postfixList.append(opStack.pop())\n",
    "            opStack.push(token)\n",
    "\n",
    "    while not opStack.isEmpty():\n",
    "        postfixList.append(opStack.pop())\n",
    "    return \" \".join(postfixList)"
   ]
  },
  {
   "cell_type": "code",
   "execution_count": 2,
   "id": "2f47188b",
   "metadata": {},
   "outputs": [
    {
     "name": "stdout",
     "output_type": "stream",
     "text": [
      "A B * C D * +\n",
      "A B + C * D E - F G + * -\n"
     ]
    }
   ],
   "source": [
    "print(infixToPostfix(\"A * B + C * D\"))\n",
    "print(infixToPostfix(\"( A + B ) * C - ( D - E ) * ( F + G )\"))"
   ]
  },
  {
   "cell_type": "markdown",
   "id": "31425ce9",
   "metadata": {},
   "source": [
    "Faz o cálculo da expressão pós-fixa"
   ]
  },
  {
   "cell_type": "code",
   "execution_count": 3,
   "id": "038cc56f",
   "metadata": {},
   "outputs": [],
   "source": [
    "def evaluate_rpn(expr):\n",
    "    \"\"\"Avalia uma expressão pós-fixa (RPN)\"\"\"\n",
    "    stack = []\n",
    "\n",
    "    for token in expr:\n",
    "        if token.isdigit():\n",
    "            stack.append(float(token))\n",
    "        elif token in ('+', '-', '*', '/'):\n",
    "            right = stack.pop()\n",
    "            left = stack.pop()\n",
    "            if token == '+':\n",
    "                result = left + right\n",
    "            elif token == '-':\n",
    "                result = left - right\n",
    "            elif token == '*':\n",
    "                result = left * right\n",
    "            elif token == '/':\n",
    "                result = left / right\n",
    "            stack.append(result)\n",
    "\n",
    "    return stack.pop()\n"
   ]
  },
  {
   "cell_type": "markdown",
   "id": "ecb359ab",
   "metadata": {},
   "source": [
    "![](equacao.PNG)"
   ]
  },
  {
   "cell_type": "code",
   "execution_count": 4,
   "id": "2bce630d",
   "metadata": {},
   "outputs": [],
   "source": [
    "b = \"2 * ( 3 + 4 )\""
   ]
  },
  {
   "cell_type": "markdown",
   "id": "0e66ce87",
   "metadata": {},
   "source": [
    "![](notacao_polonesa.PNG)"
   ]
  },
  {
   "cell_type": "code",
   "execution_count": 5,
   "id": "693c333b",
   "metadata": {},
   "outputs": [
    {
     "data": {
      "text/plain": [
       "'2 3 4 + *'"
      ]
     },
     "execution_count": 5,
     "metadata": {},
     "output_type": "execute_result"
    }
   ],
   "source": [
    "b_posfixado = infixToPostfix(b)\n",
    "b_posfixado"
   ]
  },
  {
   "cell_type": "markdown",
   "id": "b92ef446",
   "metadata": {},
   "source": [
    "![](arvore.PNG)"
   ]
  },
  {
   "cell_type": "code",
   "execution_count": 6,
   "id": "e66c5dc4",
   "metadata": {},
   "outputs": [
    {
     "data": {
      "text/plain": [
       "14.0"
      ]
     },
     "execution_count": 6,
     "metadata": {},
     "output_type": "execute_result"
    }
   ],
   "source": [
    "# Transforma a expressão infixa em posfixa\n",
    "evaluate_rpn(b_posfixado)"
   ]
  },
  {
   "cell_type": "code",
   "execution_count": 7,
   "id": "173bb7cc",
   "metadata": {},
   "outputs": [
    {
     "data": {
      "text/plain": [
       "14"
      ]
     },
     "execution_count": 7,
     "metadata": {},
     "output_type": "execute_result"
    }
   ],
   "source": [
    "2 * ( 3 + 4 )"
   ]
  },
  {
   "cell_type": "markdown",
   "id": "bf1a54d3",
   "metadata": {},
   "source": [
    "# <p style=\"color:#1D7151\"> Implementação canônica </p>"
   ]
  },
  {
   "cell_type": "markdown",
   "id": "46c8b1d9",
   "metadata": {},
   "source": [
    "Criando a classe <code>NoArvore</code> que para definir um nó em uma árvore binária. \n",
    "É definido três atributos: raiz, esquerda e direita, os dois ultimos elementos permite apontar para nós filhos esquerdo e direito do nó da raiz.\n",
    "\n",
    "O método <code>__init__</code> é o construtor da classe e é usado para inicializar os atributos da classe. Ele recebe três parâmetros: raiz, esquerda e direita. Se nenhum valor for fornecido para esses parâmetros, eles serão inicializados como None.\n",
    "\n",
    "O método <code>__repr__</code> é usado para retornar uma representação em string do objeto NoArvore. Ele retorna uma string que mostra a raiz atual e seus filhos esquerdo e direito."
   ]
  },
  {
   "cell_type": "code",
   "execution_count": 8,
   "id": "cbdadc40",
   "metadata": {},
   "outputs": [],
   "source": [
    "class NoArvore:\n",
    "    def __init__(self, raiz=None, esquerda=None, direita=None):\n",
    "        self.raiz = raiz\n",
    "        self.esquerda = esquerda\n",
    "        self.direita = direita\n",
    "\n",
    "    def __repr__(self):\n",
    "        return '   %s \\n  /   \\ \\n %s     %s ' % (self.raiz,\n",
    "                                                  self.esquerda and self.esquerda.raiz,\n",
    "                                                  self.direita and self.direita.raiz)"
   ]
  },
  {
   "cell_type": "code",
   "execution_count": 9,
   "id": "ba5874f8",
   "metadata": {},
   "outputs": [
    {
     "name": "stdout",
     "output_type": "stream",
     "text": [
      "Árvore: \n",
      "    3 \n",
      "  /   \\ \n",
      " 5     1 \n"
     ]
    }
   ],
   "source": [
    "raiz = NoArvore(3)\n",
    "raiz.esquerda = NoArvore(5)\n",
    "raiz.direita  = NoArvore(1)\n",
    "\n",
    "print(\"Árvore: \\n\", raiz)"
   ]
  },
  {
   "cell_type": "markdown",
   "id": "9cc191e5",
   "metadata": {},
   "source": [
    "A função **pos_ordem** fará o percurso da árvore lendo primeiro à subárvore a esquerda, depois à subarvore a direita e por último a raiz obedecendo o algoritmo de pós-ordem."
   ]
  },
  {
   "cell_type": "code",
   "execution_count": 10,
   "id": "88270de9",
   "metadata": {},
   "outputs": [],
   "source": [
    "def pos_ordem(raiz):\n",
    "    if not raiz:\n",
    "        return\n",
    "\n",
    "    # Visita filho da esquerda.\n",
    "    pos_ordem(raiz.esquerda)\n",
    "\n",
    "    # Visita filho da direita.\n",
    "    pos_ordem(raiz.direita)\n",
    "    \n",
    "    # Visita nodo corrente.\n",
    "    print(raiz.raiz),"
   ]
  },
  {
   "cell_type": "code",
   "execution_count": 11,
   "id": "c8cf871d",
   "metadata": {},
   "outputs": [
    {
     "name": "stdout",
     "output_type": "stream",
     "text": [
      "5\n",
      "1\n",
      "3\n"
     ]
    }
   ],
   "source": [
    "pos_ordem(raiz)"
   ]
  },
  {
   "cell_type": "markdown",
   "id": "d914b92e",
   "metadata": {},
   "source": [
    "### <p style=\"color:#1D7151\">Escrevendo a árvore</p>"
   ]
  },
  {
   "cell_type": "markdown",
   "id": "e563aebe",
   "metadata": {},
   "source": [
    "![](arvore_exe.PNG)"
   ]
  },
  {
   "cell_type": "code",
   "execution_count": 12,
   "id": "6fcada02",
   "metadata": {},
   "outputs": [],
   "source": [
    "raiz = NoArvore(40)\n",
    "\n",
    "raiz.esquerda = NoArvore(20)\n",
    "raiz.direita  = NoArvore(60)\n",
    "\n",
    "raiz.direita.esquerda  = NoArvore(50)\n",
    "raiz.direita.direita   = NoArvore(70)\n",
    "raiz.esquerda.esquerda = NoArvore(10)\n",
    "raiz.esquerda.direita  = NoArvore(30)"
   ]
  },
  {
   "cell_type": "markdown",
   "id": "ed093dbc",
   "metadata": {},
   "source": [
    "percorrendo em pós-ordem:"
   ]
  },
  {
   "cell_type": "code",
   "execution_count": 13,
   "id": "c0a4f914",
   "metadata": {},
   "outputs": [
    {
     "name": "stdout",
     "output_type": "stream",
     "text": [
      "10\n",
      "30\n",
      "20\n",
      "50\n",
      "70\n",
      "60\n",
      "40\n"
     ]
    }
   ],
   "source": [
    "pos_ordem(raiz)"
   ]
  }
 ],
 "metadata": {
  "kernelspec": {
   "display_name": "Python 3 (ipykernel)",
   "language": "python",
   "name": "python3"
  },
  "language_info": {
   "codemirror_mode": {
    "name": "ipython",
    "version": 3
   },
   "file_extension": ".py",
   "mimetype": "text/x-python",
   "name": "python",
   "nbconvert_exporter": "python",
   "pygments_lexer": "ipython3",
   "version": "3.9.13"
  }
 },
 "nbformat": 4,
 "nbformat_minor": 5
}
